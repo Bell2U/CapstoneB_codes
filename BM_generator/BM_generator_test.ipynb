{
 "cells": [
  {
   "cell_type": "code",
   "execution_count": 132,
   "metadata": {},
   "outputs": [],
   "source": [
    "from numpy.random import normal\n",
    "from numpy import float16\n",
    "from math import floor, log2"
   ]
  },
  {
   "cell_type": "code",
   "execution_count": 156,
   "metadata": {},
   "outputs": [],
   "source": [
    "# Random array generator\n",
    "def random_array(length, normalize=False):\n",
    "    array = normal(loc=0.0, scale=6, size=(1,length)).astype(float16)[0]\n",
    "\n",
    "    if normalize:\n",
    "        max_num = max(array)\n",
    "        i = 0\n",
    "        while i < len(array):\n",
    "            array[i] = array[i]/max_num\n",
    "            i += 1\n",
    "    else:\n",
    "        i = 0\n",
    "        while i<len(array):\n",
    "            if array[i] > 0 and array[i] < 1:\n",
    "                array[i] += 1\n",
    "            elif array[i] < 0 and array[i] >-1:\n",
    "                array[i] -= 1\n",
    "            i += 1\n",
    "    return array\n",
    "\n",
    "def split_array_into_chunks(arr, chunk_size):\n",
    "    num_chunks = (len(arr) + chunk_size - 1) // chunk_size # calculate the number of chunks\n",
    "    chunks = [[] for _ in range(num_chunks)] # create empty list of chunks\n",
    "\n",
    "    for i, elem in enumerate(arr):\n",
    "        chunk_index = i // chunk_size # calculate the index of the current chunk\n",
    "        chunks[chunk_index].append(elem) # add the current element to the current chunk\n",
    "\n",
    "    return chunks\n",
    "\n",
    "def get_shared_bias(BM_chunk, e):\n",
    "    Es = [floor(log2(abs(elem))) for elem in BM_chunk]\n",
    "    return max(Es) - (2**(e-1)-1)\n",
    "\n",
    "def get_shared_bias_testing(BM_chunk, e):\n",
    "    Es_abs = [abs(elem) for elem in BM_chunk]\n",
    "    Es_log2 = [log2(elem) for elem in Es_abs]\n",
    "    Es = [floor(elem) for elem in Es_log2]\n",
    "    shared_bais = max(Es) - (2**(e-1)-1)\n",
    "    print(f\"Es abs are {Es_abs}\")\n",
    "    print(f\"Es log2 are {Es_log2}\")\n",
    "    print(f\"Exponents are {Es}, 2**(e-1)-1 is {2**(e-1)-1}\")\n",
    "    print(f\"shared_bias is {shared_bais}\")\n",
    "    return shared_bais\n",
    "\n",
    "def to_twos_complement(n:int, width):\n",
    "    # Determine the minimum number of bits required to represent n in 2's complement form\n",
    "    # width = n.bit_length() + 1\n",
    "    \n",
    "    # Convert to binary with prefix '0b'\n",
    "    bin_str = bin(n & int(\"1\"*width, 2))[2:]\n",
    "    \n",
    "    # If the number is negative, subtract 2**width to obtain its 2's complement\n",
    "    if bin_str[0] == 'b':\n",
    "        return bin(n & int(\"1\"*width, 2) - (1 << len(bin_str)))[2:]\n",
    "    else:\n",
    "        return '0'*(width - len(bin_str)) + bin_str\n",
    "\n",
    "def decimal_to_binary(fraction):\n",
    "    if fraction == 0:\n",
    "        return \"0.0\"\n",
    " \n",
    "    sign = '-' if fraction < 0 else ''\n",
    "    fraction = abs(fraction)\n",
    "    integer_part = int(fraction)\n",
    "    fractional_part = fraction - integer_part\n",
    "    integer_binary = bin(integer_part)[2:]\n",
    "    fractional_binary = ''\n",
    " \n",
    "    while fractional_part != 0:\n",
    "        fractional_part *= 2\n",
    "        if fractional_part >= 1:\n",
    "            fractional_binary += '1'\n",
    "            fractional_part -= 1\n",
    "        else:\n",
    "            fractional_binary += '0'\n",
    "    \n",
    "    result = sign + integer_binary + '.' + fractional_binary\n",
    "    return result\n",
    "\n",
    "def fractional_to_BM(frac: str, shared_bias, e, m):\n",
    "    # sign\n",
    "    if frac[0] == '-':\n",
    "        sign = '1'\n",
    "        frac = frac[1:]\n",
    "    else:\n",
    "        sign = '0'\n",
    "\n",
    "    # exponent\n",
    "    integer_binary, fractional_binary = frac.split('.')\n",
    "    actual_exponent = len(integer_binary)-1\n",
    "    exponent_int = actual_exponent + shared_bias\n",
    "    exponent = to_twos_complement(exponent_int, e)\n",
    "    if exponent_int.bit_length() + 1 > e:\n",
    "        raise OverflowError(f\"Not enough exponent bits, exponent overflowed! fraction number is {frac}, shared bias is {shared_bias}, actual exponent is {actual_exponent} and exponent is {exponent_int}, {exponent}\")\n",
    "\n",
    "    # mantissa\n",
    "    mantissa = integer_binary + fractional_binary\n",
    "    mantissa = mantissa[1:]\n",
    "    if len(mantissa) <= m:\n",
    "        mantissa = mantissa + (m-len(mantissa))*'0'\n",
    "    else:\n",
    "        mantissa = mantissa[0:m]\n",
    "\n",
    "    BM = sign + exponent + mantissa\n",
    "    return BM\n",
    "\n",
    "def dot_product(array_1, array_2):\n",
    "    if len(array_1) != len(array_2):\n",
    "        raise ValueError(\"Arrays must have equal length\")\n",
    "    return sum(x * y for x, y in zip(array_1, array_2))\n",
    "\n",
    "\n",
    "def binary_fraction_to_decimal(binary_fraction):\n",
    "    # Check if the number is negative\n",
    "    is_negative = False\n",
    "    if binary_fraction[0] == '-':\n",
    "        is_negative = True\n",
    "        binary_fraction = binary_fraction[1:]\n",
    "    \n",
    "    # Separate the integer and fractional parts\n",
    "    integer_part, fractional_part = binary_fraction.split('.')\n",
    "    \n",
    "    # Convert the integer part to decimal\n",
    "    decimal = 0\n",
    "    power = len(integer_part) - 1\n",
    "    for bit in integer_part:\n",
    "        if bit == '1':\n",
    "            decimal += 2 ** power\n",
    "        power -= 1\n",
    "    \n",
    "    # Convert the fractional part to decimal\n",
    "    power = -1\n",
    "    for bit in fractional_part:\n",
    "        if bit == '1':\n",
    "            decimal += 2 ** power\n",
    "        power -= 1\n",
    "    \n",
    "    # Apply negative sign if necessary\n",
    "    if is_negative:\n",
    "        decimal = -decimal\n",
    "    \n",
    "    return decimal\n"
   ]
  },
  {
   "attachments": {},
   "cell_type": "markdown",
   "metadata": {},
   "source": [
    "# Encapsulate BM generator into a function"
   ]
  },
  {
   "cell_type": "code",
   "execution_count": 134,
   "metadata": {},
   "outputs": [],
   "source": [
    "def BM_generator():\n",
    "    BM_SIZE = 8\n",
    "    NUM_DATA_IN_BLOCK = 8\n",
    "    ARRAY_LEN = 32\n",
    "    e = 3\n",
    "    m = BM_SIZE - 1 - e\n",
    "    normalize = False\n",
    "\n",
    "    fp_array = random_array(ARRAY_LEN, normalize)\n",
    "    chunks = split_array_into_chunks(fp_array, NUM_DATA_IN_BLOCK)\n",
    "    BMs = []\n",
    "    for chunk in chunks:\n",
    "        shared_bias = get_shared_bias(chunk, e)\n",
    "        Binary_chunk = [decimal_to_binary(frac) for frac in chunk]\n",
    "        BM_chunk = [fractional_to_BM(Bin, shared_bias, e, m) for Bin in Binary_chunk]\n",
    "        BMs.append((BM_chunk, shared_bias))\n",
    "    return fp_array, chunks, BMs\n",
    "\n",
    "def BM_printer(BMs, chunks):\n",
    "    for i, BM in enumerate(BMs):\n",
    "        print(f\"BM number {i+1}:\")\n",
    "        print(f\"Shared bias is {BM[1]}\")\n",
    "        print(\"The block minifloats are:\")\n",
    "        print(\"\\n\".join(BM[0]))\n",
    "        print(\"Their corresponding decimal forms are:\")\n",
    "        print(chunks[i])\n",
    "        print(*chunks[i], sep='\\n')\n",
    "        print()\n",
    "\n",
    "def verilog_code_generator(BMs_1, BMs_2):\n",
    "    file = \"G:\\\\OneDrive - The University of Sydney (Students)\\\\semester1 2023\\\\capstone\\\\python code\\\\verilog_testing_code.txt\"\n",
    "    with open(file, 'w') as f:\n",
    "        i = 1\n",
    "        for BM1_tuple, BM2_tuple in zip(BMs_1, BMs_2):\n",
    "            f.write(f\"Testing data {i}\\n\")\n",
    "            i += 1\n",
    "            f.write(f\"sb1 = {BM1_tuple[1]};\\n\")\n",
    "            f.write(f\"sb2 = {BM2_tuple[1]};\\n\\n\")\n",
    "            f.write(\"#5 reset = 1'b1;\\n\")\n",
    "            f.write(\"#5 reset = 1'b0;    #15\\n\\n\")\n",
    "            loop_idx = 1\n",
    "            for BM1, BM2 in  zip(BM1_tuple[0], BM2_tuple[0]):\n",
    "                bm1_len = str(len(BM1))\n",
    "                bm2_len = str(len(BM2))\n",
    "                if loop_idx == 1:\n",
    "                    f.write(f\"in1 = {bm1_len}'b\" + BM1 + \";\\n\")\n",
    "                    f.write(f\"in2 = {bm2_len}'b\" + BM2 + \";\\n\")\n",
    "                    f.write(\"#10 write_enable = 1'b1;\\n\\n\")\n",
    "                    loop_idx += 1\n",
    "                elif loop_idx == 2:\n",
    "                    f.write(\"#15\\n\")\n",
    "                    f.write(f\"in1 = {bm1_len}'b\" + BM1 + \";\\n\")\n",
    "                    f.write(f\"in2 = {bm2_len}'b\" + BM2 + \";\\n\\n\")\n",
    "                    loop_idx = 0\n",
    "                else:\n",
    "                    f.write(\"#25\\n\")\n",
    "                    f.write(f\"in1 = {bm1_len}'b\" + BM1 + \";\\n\")\n",
    "                    f.write(f\"in2 = {bm2_len}'b\" + BM2 + \";\\n\\n\")\n",
    "            f.write(\"\\n\\n\\n\")"
   ]
  },
  {
   "attachments": {},
   "cell_type": "markdown",
   "metadata": {},
   "source": [
    "# BM generator test"
   ]
  },
  {
   "cell_type": "code",
   "execution_count": 4,
   "metadata": {},
   "outputs": [],
   "source": [
    "# Constents\n",
    "BM_SIZE = 8\n",
    "NUM_DATA_IN_BLOCK = 8\n",
    "e = 3\n",
    "m = BM_SIZE - 1 - e"
   ]
  },
  {
   "cell_type": "code",
   "execution_count": 5,
   "metadata": {},
   "outputs": [
    {
     "name": "stdout",
     "output_type": "stream",
     "text": [
      "[ 4.492   1.353   8.13   -4.      0.261  -4.094   1.116   1.718  11.54\n",
      " -3.584   0.9907  7.758  -2.824   2.65   -6.38   -2.803  -6.797  -4.496\n",
      " -2.832   5.074  -3.547   3.283  -1.88    0.6934 -1.941   5.254   6.246\n",
      " -1.621  -3.39    7.496   3.32    0.6104]\n"
     ]
    }
   ],
   "source": [
    "# Random array\n",
    "fp_array1 = random_array(32, False)\n",
    "print(fp_array1)"
   ]
  },
  {
   "cell_type": "code",
   "execution_count": 23,
   "metadata": {},
   "outputs": [
    {
     "name": "stdout",
     "output_type": "stream",
     "text": [
      "[4.492, 1.353, 8.13, -4.0, 0.261, -4.094, 1.116, 1.718]\n",
      "[11.54, -3.584, 0.9907, 7.758, -2.824, 2.65, -6.38, -2.803]\n",
      "[-6.797, -4.496, -2.832, 5.074, -3.547, 3.283, -1.88, 0.6934]\n",
      "[-1.941, 5.254, 6.246, -1.621, -3.39, 7.496, 3.32, 0.6104]\n"
     ]
    }
   ],
   "source": [
    "chunks = split_array_into_chunks(fp_array1, NUM_DATA_IN_BLOCK)\n",
    "print('\\n'.join(map(str, chunks)))"
   ]
  },
  {
   "cell_type": "code",
   "execution_count": 39,
   "metadata": {},
   "outputs": [],
   "source": [
    "# convert all the chunks into BM\n",
    "BMs = []\n",
    "for chunk in chunks:\n",
    "    shared_bias = get_shared_bias(chunk, e)\n",
    "    Binary_chunk = [decimal_to_binary(frac) for frac in chunk]\n",
    "    BM_chunk = [fractional_to_BM(Bin, shared_bias, e, m) for Bin in Binary_chunk]\n",
    "    BMs.append((BM_chunk, shared_bias))"
   ]
  },
  {
   "cell_type": "code",
   "execution_count": null,
   "metadata": {},
   "outputs": [],
   "source": [
    "# print the result in proper form to feed into verilog design\n",
    "for i, BM in enumerate(BMs):\n",
    "    print(f\"BM number {i+1}:\")\n",
    "    print(f\"Shared bias is {BM[1]}\")\n",
    "    print(\"The block minifloats are:\")\n",
    "    print(\"\\n\".join(BM[0]))\n",
    "    print(\"Their corresponding decimal forms are:\")\n",
    "    print(chunks[i])\n",
    "    print()\n"
   ]
  },
  {
   "attachments": {},
   "cell_type": "markdown",
   "metadata": {},
   "source": [
    "# Run the BM generator"
   ]
  },
  {
   "cell_type": "code",
   "execution_count": 171,
   "metadata": {},
   "outputs": [
    {
     "name": "stdout",
     "output_type": "stream",
     "text": [
      "Chunks dot product should be\n",
      "88.9560546875\n",
      "-135.703125\n",
      "-5.13671875\n",
      "-203.890625\n"
     ]
    }
   ],
   "source": [
    "fp1, fp1_chunked, BM1 = BM_generator()\n",
    "fp2, fp2_chunked, BM2 = BM_generator()\n",
    "\n",
    "dps = []\n",
    "for chunk1, chunk2 in zip(fp1_chunked, fp2_chunked):\n",
    "    dps.append(dot_product(chunk1, chunk2))\n",
    "print(\"Chunks dot product should be\")\n",
    "print(*dps, sep='\\n')\n",
    "\n",
    "verilog_code_generator(BM1, BM2)"
   ]
  },
  {
   "cell_type": "code",
   "execution_count": 172,
   "metadata": {},
   "outputs": [
    {
     "name": "stdout",
     "output_type": "stream",
     "text": [
      "BM number 1:\n",
      "Shared bias is 0\n",
      "The block minifloats are:\n",
      "00010111\n",
      "10100010\n",
      "10001001\n",
      "10001100\n",
      "10000010\n",
      "00101100\n",
      "10110011\n",
      "10110011\n",
      "Their corresponding decimal forms are:\n",
      "[2.953, -4.555, -1.572, -1.791, -1.162, 7.215, -9.984, -9.68]\n",
      "2.953\n",
      "-4.555\n",
      "-1.572\n",
      "-1.791\n",
      "-1.162\n",
      "7.215\n",
      "-9.984\n",
      "-9.68\n",
      "\n",
      "BM number 2:\n",
      "Shared bias is -1\n",
      "The block minifloats are:\n",
      "10010111\n",
      "10001111\n",
      "01110010\n",
      "00000110\n",
      "01111100\n",
      "00010110\n",
      "11110010\n",
      "00010101\n",
      "Their corresponding decimal forms are:\n",
      "[-5.895, -3.955, 1.174, 2.85, 1.793, 5.527, -1.179, 5.395]\n",
      "-5.895\n",
      "-3.955\n",
      "1.174\n",
      "2.85\n",
      "1.793\n",
      "5.527\n",
      "-1.179\n",
      "5.395\n",
      "\n",
      "BM number 3:\n",
      "Shared bias is -1\n",
      "The block minifloats are:\n",
      "11111010\n",
      "00010111\n",
      "00010011\n",
      "00010110\n",
      "01110100\n",
      "00011000\n",
      "10001101\n",
      "00010001\n",
      "Their corresponding decimal forms are:\n",
      "[-1.625, 5.977, 4.836, 5.527, 1.254, 6.227, -3.729, 4.324]\n",
      "-1.625\n",
      "5.977\n",
      "4.836\n",
      "5.527\n",
      "1.254\n",
      "6.227\n",
      "-3.729\n",
      "4.324\n",
      "\n",
      "BM number 4:\n",
      "Shared bias is 0\n",
      "The block minifloats are:\n",
      "00000000\n",
      "10001110\n",
      "10110101\n",
      "00110110\n",
      "10001110\n",
      "00010100\n",
      "00001110\n",
      "00100000\n",
      "Their corresponding decimal forms are:\n",
      "[1.014, -1.882, -10.69, 11.3, -1.896, 2.525, 1.879, 4.016]\n",
      "1.014\n",
      "-1.882\n",
      "-10.69\n",
      "11.3\n",
      "-1.896\n",
      "2.525\n",
      "1.879\n",
      "4.016\n",
      "\n",
      "BM number 1:\n",
      "Shared bias is -1\n",
      "The block minifloats are:\n",
      "00000001\n",
      "10011001\n",
      "11110100\n",
      "00000100\n",
      "10011011\n",
      "00001011\n",
      "01111100\n",
      "10010001\n",
      "Their corresponding decimal forms are:\n",
      "[2.232, -6.305, -1.267, 2.559, -6.844, 3.38, 1.785, -4.31]\n",
      "2.232\n",
      "-6.305\n",
      "-1.267\n",
      "2.559\n",
      "-6.844\n",
      "3.38\n",
      "1.785\n",
      "-4.31\n",
      "\n",
      "BM number 2:\n",
      "Shared bias is 0\n",
      "The block minifloats are:\n",
      "00111011\n",
      "00010001\n",
      "10101101\n",
      "10110011\n",
      "10101101\n",
      "10101001\n",
      "10011101\n",
      "00101000\n",
      "Their corresponding decimal forms are:\n",
      "[13.64, 2.129, -7.305, -9.83, -7.254, -6.3, -3.678, 6.15]\n",
      "13.64\n",
      "2.129\n",
      "-7.305\n",
      "-9.83\n",
      "-7.254\n",
      "-6.3\n",
      "-3.678\n",
      "6.15\n",
      "\n",
      "BM number 3:\n",
      "Shared bias is 0\n",
      "The block minifloats are:\n",
      "10111001\n",
      "00100110\n",
      "00001111\n",
      "10101011\n",
      "00110000\n",
      "10110001\n",
      "10100100\n",
      "10000100\n",
      "Their corresponding decimal forms are:\n",
      "[-12.625, 5.617, 1.9375, -6.883, 8.086, -8.73, -5.13, -1.266]\n",
      "-12.625\n",
      "5.617\n",
      "1.9375\n",
      "-6.883\n",
      "8.086\n",
      "-8.73\n",
      "-5.13\n",
      "-1.266\n",
      "\n",
      "BM number 4:\n",
      "Shared bias is 0\n",
      "The block minifloats are:\n",
      "10100010\n",
      "00011011\n",
      "00110101\n",
      "10010010\n",
      "10100110\n",
      "10101100\n",
      "10110010\n",
      "10101000\n",
      "Their corresponding decimal forms are:\n",
      "[-4.746, 3.482, 10.91, -2.373, -5.68, -7.184, -9.04, -6.176]\n",
      "-4.746\n",
      "3.482\n",
      "10.91\n",
      "-2.373\n",
      "-5.68\n",
      "-7.184\n",
      "-9.04\n",
      "-6.176\n",
      "\n"
     ]
    }
   ],
   "source": [
    "BM_printer(BM1, fp1_chunked)\n",
    "BM_printer(BM2, fp2_chunked)\n",
    "# dp = dot_product(fp1, fp2)\n",
    "# print(f\"The dot product of these two arrays should be {dp}\")"
   ]
  },
  {
   "attachments": {},
   "cell_type": "markdown",
   "metadata": {},
   "source": [
    "### Result checking"
   ]
  },
  {
   "cell_type": "code",
   "execution_count": 10,
   "metadata": {},
   "outputs": [
    {
     "name": "stdout",
     "output_type": "stream",
     "text": [
      "8.427734375\n"
     ]
    }
   ],
   "source": [
    "tem_dp = dot_product(fp1_chunked[0], fp1_chunked[1])\n",
    "print(tem_dp)"
   ]
  },
  {
   "cell_type": "code",
   "execution_count": 11,
   "metadata": {},
   "outputs": [
    {
     "name": "stdout",
     "output_type": "stream",
     "text": [
      "696\n"
     ]
    }
   ],
   "source": [
    "binary_fraction = '1010111000.0'\n",
    "decimal = binary_fraction_to_decimal(binary_fraction)\n",
    "print(decimal)"
   ]
  },
  {
   "cell_type": "code",
   "execution_count": 32,
   "metadata": {},
   "outputs": [
    {
     "name": "stdout",
     "output_type": "stream",
     "text": [
      "[-3.834, 1.111, -4.57, 4.824, -6.26, -8.195, 0.1362, -0.7227]\n",
      "[-6.83, -1.873, -0.01903, 2.486, 5.527, -5.02, -1.357, -1.397]\n",
      "[6.703, 3.545, -0.04977, 0.3894, 4.914, -2.62, -0.6836, 6.0]\n",
      "[-9.98, 0.0285, 6.86, -5.375, 3.29, -3.988, 9.3, 8.41]\n"
     ]
    }
   ],
   "source": [
    "print('\\n'.join(map(str, fp1_chunked)))"
   ]
  },
  {
   "cell_type": "code",
   "execution_count": 33,
   "metadata": {},
   "outputs": [
    {
     "name": "stdout",
     "output_type": "stream",
     "text": [
      "[(['10011110', '00000001', '10100010', '00100011', '10101001', '10110000', '00000010', '10001011'], 0), (['10011011', '10111101', '10110000', '00000011', '00010110', '10010100', '10110101', '10110110'], -1), (['00011010', '00001100', '10110000', '00110110', '00010011', '10000100', '10111010', '00011000'], -1), (['10110011', '00000000', '00101011', '10100101', '00011010', '10011111', '00110010', '00110000'], 0)]\n",
      "[[-3.834, 1.111, -4.57, 4.824, -6.26, -8.195, 0.1362, -0.7227], [-6.83, -1.873, -0.01903, 2.486, 5.527, -5.02, -1.357, -1.397], [6.703, 3.545, -0.04977, 0.3894, 4.914, -2.62, -0.6836, 6.0], [-9.98, 0.0285, 6.86, -5.375, 3.29, -3.988, 9.3, 8.41]]\n"
     ]
    }
   ],
   "source": [
    "print(BM1)\n",
    "print(fp1_chunked)"
   ]
  },
  {
   "attachments": {},
   "cell_type": "markdown",
   "metadata": {},
   "source": [
    "# Unit tests"
   ]
  },
  {
   "cell_type": "code",
   "execution_count": null,
   "metadata": {},
   "outputs": [],
   "source": [
    "def test_bm_printer():\n",
    "    bm = [(['10011110', '00000001', '10100010', '00100011', '10101001', '10110000', '00000010', '10001011'], 0), (['10011011', '10111101', '10110000', '00000011', '00010110', '10010100', '10110101', '10110110'], -1), (['00011010', '00001100', '10110000', '00110110', '00010011', '10000100', '10111010', '00011000'], -1), (['10110011', '00000000', '00101011', '10100101', '00011010', '10011111', '00110010', '00110000'], 0)]\n",
    "    fp = [[-3.834, 1.111, -4.57, 4.824, -6.26, -8.195, 0.1362, -0.7227], [-6.83, -1.873, -0.01903, 2.486, 5.527, -5.02, -1.357, -1.397], [6.703, 3.545, -0.04977, 0.3894, 4.914, -2.62, -0.6836, 6.0], [-9.98, 0.0285, 6.86, -5.375, 3.29, -3.988, 9.3, 8.41]]\n",
    "    BM_printer(bm, fp)\n",
    "test_bm_printer()"
   ]
  },
  {
   "cell_type": "code",
   "execution_count": 27,
   "metadata": {},
   "outputs": [
    {
     "name": "stdout",
     "output_type": "stream",
     "text": [
      "111\n",
      "10001\n"
     ]
    }
   ],
   "source": [
    "def test_twos_complement():\n",
    "    U_1 = to_twos_complement(-1, 3)\n",
    "    U_2 = to_twos_complement(-15, 5)\n",
    "    print(U_1)\n",
    "    print(U_2)\n",
    "test_twos_complement()"
   ]
  },
  {
   "cell_type": "code",
   "execution_count": 14,
   "metadata": {},
   "outputs": [],
   "source": [
    "def test_get_shared_bias():\n",
    "    U_e = 3\n",
    "    U_block = [2.725405629730855, 7.756529614174363, -0.06001146100609999, 0.2990818474643237, -0.9200318592211703, 0.729987441367691, 6.072331412966728, 1.2784195577767334]\n",
    "    get_shared_bias_testing(chunks[0], U_e)"
   ]
  },
  {
   "cell_type": "code",
   "execution_count": 15,
   "metadata": {},
   "outputs": [],
   "source": [
    "def test_fractional_to_bm():\n",
    "    U_BM = fractional_to_BM('101.11011', -3, 3, 4)\n",
    "    print(U_BM)"
   ]
  },
  {
   "cell_type": "code",
   "execution_count": 16,
   "metadata": {},
   "outputs": [],
   "source": [
    "def test_decimal_to_binary():\n",
    "    fraction = 1.25\n",
    "    binary = decimal_to_binary(fraction)\n",
    "    print(\"Binary representation of\", fraction, \"is\", binary)"
   ]
  },
  {
   "cell_type": "code",
   "execution_count": 17,
   "metadata": {},
   "outputs": [],
   "source": [
    "def test_dot_product():\n",
    "    a1 = [1,2,3]\n",
    "    a2 = [1,1,1]\n",
    "    DotProduct = [a*b for a,b in zip(a1, a2)]\n",
    "    Sum = sum(DotProduct)\n",
    "    print(DotProduct)\n",
    "    print(Sum)"
   ]
  },
  {
   "cell_type": "code",
   "execution_count": 18,
   "metadata": {},
   "outputs": [],
   "source": [
    "def test_decimal_to_binary():\n",
    "    sum_binary = decimal_to_binary(Sum)\n",
    "    print(sum_binary)"
   ]
  },
  {
   "cell_type": "code",
   "execution_count": 19,
   "metadata": {},
   "outputs": [],
   "source": [
    "def test_algorithm_frac_to_bm():\n",
    "    e = 3\n",
    "    m = 4\n",
    "    fp_numbers = [3.123, -6.55, -0.7764, -5.766, -6.938, 9.87, -1.545, -13.375]\n",
    "    shared_bias = get_shared_bias(fp_numbers, e)\n",
    "    bin_number = decimal_to_binary(7.28)\n",
    "    bm_number = fractional_to_BM(bin_number, -1, e, m)\n",
    "\n",
    "    print(shared_bias, bin_number, bm_number, sep='\\n')\n",
    "# test_algorithm_frac_to_bm()\n",
    "    "
   ]
  },
  {
   "attachments": {},
   "cell_type": "markdown",
   "metadata": {},
   "source": [
    "# Tools"
   ]
  },
  {
   "cell_type": "code",
   "execution_count": 71,
   "metadata": {},
   "outputs": [
    {
     "name": "stdout",
     "output_type": "stream",
     "text": [
      "3.375\n"
     ]
    }
   ],
   "source": [
    "def Tool_bin2dec():\n",
    "    binary_fraction = '11.011'\n",
    "    print(binary_fraction_to_decimal(binary_fraction))\n",
    "Tool_bin2dec()"
   ]
  },
  {
   "cell_type": "code",
   "execution_count": 14,
   "metadata": {},
   "outputs": [
    {
     "name": "stdout",
     "output_type": "stream",
     "text": [
      "['0.0001100110011001100110011001100110011001100110011001101', '0.01', '0.1', '0.11', '1.', '1.01', '1.1']\n"
     ]
    }
   ],
   "source": [
    "def Tool_dec2bin():\n",
    "    decs = [0.1, 0.25, 0.5, 0.75, 1, 1.25, 1.5]\n",
    "    bin = [decimal_to_binary(dec) for dec in decs]\n",
    "    print(bin)\n",
    "Tool_dec2bin()"
   ]
  },
  {
   "cell_type": "code",
   "execution_count": 106,
   "metadata": {},
   "outputs": [
    {
     "name": "stdout",
     "output_type": "stream",
     "text": [
      "63.3521806\n"
     ]
    }
   ],
   "source": [
    "def Tool_dot_product():\n",
    "    dec_array_1 = [-3.86, 0.511, 2.234, 0.1027, 3.3, -2.242, -1.0625, -2.75]\n",
    "    dec_array_2 = [-11.2, -4.49, 2.236, 1.288, 0.498, -3.307, 3.63, -4.395]\n",
    "    dot_product = sum(x*y for x,y in zip(dec_array_1, dec_array_2))\n",
    "    print(dot_product)\n",
    "Tool_dot_product()\n",
    "    "
   ]
  },
  {
   "cell_type": "code",
   "execution_count": 155,
   "metadata": {},
   "outputs": [],
   "source": [
    "import sys, os\n",
    "def Tool_BM_reader(file_in, file_out):\n",
    "    e = 3\n",
    "    m = 4\n",
    "    E = 8\n",
    "    M = 23\n",
    "    power1 = -(2*m+2)\n",
    "    shared_bias = 0\n",
    "\n",
    "    path = sys.path[0]\n",
    "    # path = 'G:\\\\OneDrive - The University of Sydney (Students)\\\\semester1 2023\\\\capstone\\\\python code\\\\'\n",
    "    input_file = os.path.join(path, file_in)\n",
    "    output_file = os.path.join(path, file_out)\n",
    "    \n",
    "    with open(input_file, 'r') as fi:\n",
    "        dec = []\n",
    "\n",
    "        for line in fi:\n",
    "            if line == '\\n':\n",
    "                dec.append('')\n",
    "                continue\n",
    "            BM = line.rstrip('\\n')\n",
    "            \n",
    "            sign = '' if BM[0] == '0' else '-' \n",
    "            exp = BM[1:E+1]\n",
    "            man = sign + BM[E+1:]\n",
    "\n",
    "            exp_int = int(exp, 2) - shared_bias\n",
    "            power = power1 + exp_int\n",
    "\n",
    "            man_shifted = man[:power] + '.' + man[power:]\n",
    "\n",
    "            dec.append(binary_fraction_to_decimal(man_shifted))\n",
    "    with open(output_file, 'w') as fo:\n",
    "        for num in dec:\n",
    "            fo.write(str(num) + '\\n')\n",
    "\n",
    "Tool_BM_reader(\"BMs.txt\", \"decs.txt\")"
   ]
  }
 ],
 "metadata": {
  "kernelspec": {
   "display_name": "base",
   "language": "python",
   "name": "python3"
  },
  "language_info": {
   "codemirror_mode": {
    "name": "ipython",
    "version": 3
   },
   "file_extension": ".py",
   "mimetype": "text/x-python",
   "name": "python",
   "nbconvert_exporter": "python",
   "pygments_lexer": "ipython3",
   "version": "3.9.12"
  },
  "orig_nbformat": 4
 },
 "nbformat": 4,
 "nbformat_minor": 2
}
